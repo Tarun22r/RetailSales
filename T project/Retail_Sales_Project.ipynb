{
  "nbformat": 4,
  "nbformat_minor": 5,
  "metadata": {
    "kernelspec": {
      "name": "python3",
      "display_name": "Python 3"
    },
    "language_info": {
      "name": "python"
    }
  },
  "cells": [
    {
      "cell_type": "markdown",
      "metadata": {},
      "source": [
        "# Retail Sales Prediction & Dashboard\n",
        "This notebook performs EDA and time-series forecasting on `RetailSales.csv` and creates outputs suitable for the internship submission.\n",
        "Includes:\n",
        "- Data loading & cleaning\n",
        "- Exploratory Data Analysis (tables + plots)\n",
        "- Time-series forecasting (SARIMAX fallback if Prophet not available)\n",
        "- Save forecast to `forecast.csv`\n",
        "\n",
        "Run all cells in order."
      ]
    },
    {
      "cell_type": "code",
      "metadata": {},
      "execution_count": null,
      "outputs": [],
      "source": [
        "# 1. Load libraries\n",
        "import pandas as pd\n",
        "import numpy as np\n",
        "import matplotlib.pyplot as plt\n",
        "from matplotlib.dates import DateFormatter\n",
        "import warnings\n",
        "warnings.filterwarnings('ignore')\n",
        "\n",
        "# For forecasting fallback\n",
        "try:\n",
        "    from prophet import Prophet\n",
        "    PROPHET_AVAILABLE = True\n",
        "except Exception:\n",
        "    PROPHET_AVAILABLE = False\n",
        "    from statsmodels.tsa.statespace.sarimax import SARIMAX\n",
        "\n",
        "print('Prophet available:', PROPHET_AVAILABLE)\n"
      ]
    },
    {
      "cell_type": "code",
      "metadata": {},
      "execution_count": null,
      "outputs": [],
      "source": [
        "# 2. Load dataset\n",
        "df = pd.read_csv('/mnt/data/RetailSales.csv')\n",
        "print('Shape:', df.shape)\n",
        "df.head()\n"
      ]
    },
    {
      "cell_type": "code",
      "metadata": {},
      "execution_count": null,
      "outputs": [],
      "source": [
        "# 3. Preprocess\n",
        "df['Date'] = pd.to_datetime(df['Date'], dayfirst=True, errors='coerce')\n",
        "df = df.sort_values('Date')\n",
        "# Ensure numeric\n",
        "df['Total_Sales'] = pd.to_numeric(df['Total_Sales'], errors='coerce')\n",
        "print('Date range:', df['Date'].min(), 'to', df['Date'].max())\n",
        "display(df.info())\n"
      ]
    },
    {
      "cell_type": "code",
      "metadata": {},
      "execution_count": null,
      "outputs": [],
      "source": [
        "# 4. Aggregate to daily sales\n",
        "daily = df.groupby('Date', as_index=True)['Total_Sales'].sum().rename('Sales').to_frame()\n",
        "daily = daily.asfreq('D').fillna(0)\n",
        "daily.head()\n"
      ]
    },
    {
      "cell_type": "code",
      "metadata": {},
      "execution_count": null,
      "outputs": [],
      "source": [
        "# 5. EDA - plots\n",
        "plt.figure(figsize=(12,5))\n",
        "plt.plot(daily.index, daily['Sales'])\n",
        "plt.title('Daily Total Sales')\n",
        "plt.xlabel('Date')\n",
        "plt.ylabel('Sales')\n",
        "plt.tight_layout()\n",
        "plt.show()\n"
      ]
    },
    {
      "cell_type": "code",
      "metadata": {},
      "execution_count": null,
      "outputs": [],
      "source": [
        "# Category-wise summary\n",
        "cat = df.groupby('Category')['Total_Sales'].sum().sort_values(ascending=False).to_frame()\n",
        "cat.columns = ['Total_Sales']\n",
        "cat\n"
      ]
    },
    {
      "cell_type": "code",
      "metadata": {},
      "execution_count": null,
      "outputs": [],
      "source": [
        "# Top products\n",
        "top_products = df.groupby('Product_Name')['Total_Sales'].sum().sort_values(ascending=False).head(10).to_frame()\n",
        "top_products.columns=['Total_Sales']\n",
        "top_products\n"
      ]
    },
    {
      "cell_type": "code",
      "metadata": {},
      "execution_count": null,
      "outputs": [],
      "source": [
        "# 6. Forecasting - next 30 days\n",
        "H = 30\n",
        "if PROPHET_AVAILABLE:\n",
        "    m = Prophet()\n",
        "    prophet_df = daily.reset_index().rename(columns={'Date':'ds','Sales':'y'})\n",
        "    m.fit(prophet_df)\n",
        "    future = m.make_future_dataframe(periods=H)\n",
        "    fcst = m.predict(future)[['ds','yhat','yhat_lower','yhat_upper']].set_index('ds')\n",
        "    forecast = fcst[['yhat','yhat_lower','yhat_upper']].rename(columns={'yhat':'Forecast'})\n",
        "else:\n",
        "    # SARIMAX fallback: simple approach\n",
        "    series = daily['Sales'].fillna(0)\n",
        "    # Fit a simple SARIMAX(1,1,1)(1,1,1,7) to capture weekly seasonality\n",
        "    model = SARIMAX(series, order=(1,1,1), seasonal_order=(1,1,1,7), enforce_stationarity=False, enforce_invertibility=False)\n",
        "    res = model.fit(disp=False)\n",
        "    pred = res.get_forecast(steps=H)\n",
        "    idx = pd.date_range(start=series.index[-1]+pd.Timedelta(days=1), periods=H, freq='D')\n",
        "    forecast = pd.DataFrame({\n",
        "        'Forecast': pred.predicted_mean.values,\n",
        "        'Lower': pred.conf_int().iloc[:,0].values,\n",
        "        'Upper': pred.conf_int().iloc[:,1].values\n",
        "    }, index=idx)\n",
        "\n",
        "forecast.to_csv('/mnt/data/forecast.csv')\n",
        "print('Forecast saved to /mnt/data/forecast.csv')\n",
        "forecast.head()\n"
      ]
    },
    {
      "cell_type": "markdown",
      "metadata": {},
      "source": [
        "## Conclusions & Next steps\n",
        "- Forecast file `forecast.csv` created.\n",
        "- To build a dashboard, see `app.py` included in the project zip."
      ]
    }
  ]
}